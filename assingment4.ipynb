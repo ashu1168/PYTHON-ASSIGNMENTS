{
 "cells": [
  {
   "cell_type": "code",
   "execution_count": 1,
   "id": "47ba43dc",
   "metadata": {},
   "outputs": [
    {
     "name": "stdout",
     "output_type": "stream",
     "text": [
      "{\n",
      " \"cells\": [\n",
      "  {\n",
      "   \"cell_type\": \"code\",\n",
      "   \"execution_count\": null,\n",
      "   \"id\": \"2e89fbf7\",\n",
      "   \"metadata\": {},\n",
      "   \"outputs\": [],\n",
      "   \"source\": [\n",
      "    \"good morning \\n\",\n",
      "    \"   good afternoon\"\n",
      "   ]\n",
      "  }\n",
      " ],\n",
      " \"metadata\": {\n",
      "  \"kernelspec\": {\n",
      "   \"display_name\": \"Python 3 (ipykernel)\",\n",
      "   \"language\": \"python\",\n",
      "   \"name\": \"python3\"\n",
      "  },\n",
      "  \"language_info\": {\n",
      "   \"codemirror_mode\": {\n",
      "    \"name\": \"ipython\",\n",
      "    \"version\": 3\n",
      "   },\n",
      "   \"file_extension\": \".py\",\n",
      "   \"mimetype\": \"text/x-python\",\n",
      "   \"name\": \"python\",\n",
      "   \"nbconvert_exporter\": \"python\",\n",
      "   \"pygments_lexer\": \"ipython3\",\n",
      "   \"version\": \"3.9.12\"\n",
      "  }\n",
      " },\n",
      " \"nbformat\": 4,\n",
      " \"nbformat_minor\": 5\n",
      "}\n",
      "\n"
     ]
    }
   ],
   "source": [
    "#write a python progra to read a entre text file\n",
    "f=open(\"ashu.py\")\n",
    "print(f.read())\n",
    "f.close()"
   ]
  },
  {
   "cell_type": "code",
   "execution_count": 2,
   "id": "87683884",
   "metadata": {},
   "outputs": [
    {
     "name": "stdout",
     "output_type": "stream",
     "text": [
      "wprd:: 0\n",
      "lines:: 36\n",
      "char:: 314\n"
     ]
    }
   ],
   "source": [
    "#write a python program to compute the number of character,word and line\n",
    "f=open(\"ashu.py\")\n",
    "s=f.read()\n",
    "char=0\n",
    "word=0\n",
    "for ch in s:\n",
    "    if ch.isalpha():\n",
    "        char=char+1\n",
    "    if ch.isspace():\n",
    "        wprd=word+1\n",
    "f.close()\n",
    "f=open(\"ashu.py\")\n",
    "l=len(f.readlines())\n",
    "print(\"wprd::\",word)\n",
    "print(\"lines::\",l)\n",
    "print(\"char::\",char)"
   ]
  },
  {
   "cell_type": "code",
   "execution_count": 3,
   "id": "fc0c0a71",
   "metadata": {},
   "outputs": [
    {
     "name": "stdout",
     "output_type": "stream",
     "text": [
      "print cuurent date and time\n",
      "2022 12 11 16:53:32\n"
     ]
    }
   ],
   "source": [
    " #write a python script to print acurrent date   in followng formate\n",
    "import datetime\n",
    "now=datetime.datetime.now()\n",
    "print(\"print cuurent date and time\")\n",
    "print(now.strftime(\"%Y %m %d %H:%M:%S\"))\n"
   ]
  },
  {
   "cell_type": "code",
   "execution_count": 4,
   "id": "e10f0b40",
   "metadata": {},
   "outputs": [
    {
     "name": "stdout",
     "output_type": "stream",
     "text": [
      "Enter string to appendsimple and interactive programming laguage\n",
      "{\n",
      " \"cells\": [\n",
      "  {\n",
      "   \"cell_type\": \"code\",\n",
      "   \"execution_count\": null,\n",
      "   \"id\": \"a0c1bc94\",\n",
      "   \"metadata\": {},\n",
      "   \"outputs\": [],\n",
      "   \"source\": [\n",
      "    \"hi good morning \\n\",\n",
      "    \"  hello python \\n\",\n",
      "    \"python is a oop language\"\n",
      "   ]\n",
      "  }\n",
      " ],\n",
      " \"metadata\": {\n",
      "  \"kernelspec\": {\n",
      "   \"display_name\": \"Python 3 (ipykernel)\",\n",
      "   \"language\": \"python\",\n",
      "   \"name\": \"python3\"\n",
      "  },\n",
      "  \"language_info\": {\n",
      "   \"codemirror_mode\": {\n",
      "    \"name\": \"ipython\",\n",
      "    \"version\": 3\n",
      "   },\n",
      "   \"file_extension\": \".py\",\n",
      "   \"mimetype\": \"text/x-python\",\n",
      "   \"name\": \"python\",\n",
      "   \"nbconvert_exporter\": \"python\",\n",
      "   \"pygments_lexer\": \"ipython3\",\n",
      "   \"version\": \"3.9.12\"\n",
      "  }\n",
      " },\n",
      " \"nbformat\": 4,\n",
      " \"nbformat_minor\": 5\n",
      "}\n",
      "python is a simple programming laguagepython is a simple programming laguegesimple and interactive programming laguage\n"
     ]
    }
   ],
   "source": [
    "#write a python program to append text to a file and display the text\n",
    "f=open(\"ashu.txt\",\"a\")\n",
    "s=input(\"Enter string to append\")\n",
    "f.write(s)\n",
    "f.close()\n",
    "f=open(\"ashu.txt\")\n",
    "print(f.read())\n"
   ]
  },
  {
   "cell_type": "code",
   "execution_count": 5,
   "id": "b36f1fd1",
   "metadata": {},
   "outputs": [
    {
     "name": "stdout",
     "output_type": "stream",
     "text": [
      "\n",
      " {\n",
      "\n",
      " [   : \" s l l e c \"  \n",
      "\n",
      " {    \n",
      "\n",
      " , \" e d o c \"   : \" e p y t _ l l e c \"      \n",
      "\n",
      " , l l u n   : \" t n u o c _ n o i t u c e x e \"      \n",
      "\n",
      " , \" 4 9 c b 1 c 0 a \"   : \" d i \"      \n",
      "\n",
      " , } {   : \" a t a d a t e m \"      \n",
      "\n",
      " , ] [   : \" s t u p t u o \"      \n",
      "\n",
      " [   : \" e c r u o s \"      \n",
      "\n",
      " , \" n \\   g n i n r o m   d o o g   i h \"        \n",
      "\n",
      " , \" n \\   n o h t y p   o l l e h     \"        \n",
      "\n",
      " \" e g a u g n a l   p o o   a   s i   n o h t y p \"        \n",
      "\n",
      " ]      \n",
      "\n",
      " }    \n",
      "\n",
      " , ]  \n",
      "\n",
      " {   : \" a t a d a t e m \"  \n",
      "\n",
      " {   : \" c e p s l e n r e k \"    \n",
      "\n",
      " , \" ) l e n r e k y p i (   3   n o h t y P \"   : \" e m a n _ y a l p s i d \"      \n",
      "\n",
      " , \" n o h t y p \"   : \" e g a u g n a l \"      \n",
      "\n",
      " \" 3 n o h t y p \"   : \" e m a n \"      \n",
      "\n",
      " , }    \n",
      "\n",
      " {   : \" o f n i _ e g a u g n a l \"    \n",
      "\n",
      " {   : \" e d o m _ r o r r i m e d o c \"      \n",
      "\n",
      " , \" n o h t y p i \"   : \" e m a n \"        \n",
      "\n",
      " 3   : \" n o i s r e v \"        \n",
      "\n",
      " , }      \n",
      "\n",
      " , \" y p . \"   : \" n o i s n e t x e _ e l i f \"      \n",
      "\n",
      " , \" n o h t y p - x / t x e t \"   : \" e p y t e m i m \"      \n",
      "\n",
      " , \" n o h t y p \"   : \" e m a n \"      \n",
      "\n",
      " , \" n o h t y p \"   : \" r e t r o p x e _ t r e v n o c b n \"      \n",
      "\n",
      " , \" 3 n o h t y p i \"   : \" r e x e l _ s t n e m g y p \"      \n",
      "\n",
      " \" 2 1 . 9 . 3 \"   : \" n o i s r e v \"      \n",
      "\n",
      " }    \n",
      "\n",
      " , }  \n",
      "\n",
      " , 4   : \" t a m r o f b n \"  \n",
      "\n",
      " 5   : \" r o n i m _ t a m r o f b n \"  \n",
      "\n",
      " }\n",
      "e g a u g a l   g n i m m a r g o r p   e v i t c a r e t n i   d n a   e l p m i s e g e u g a l   g n i m m a r g o r p   e l p m i s   a   s i   n o h t y p e g a u g a l   g n i m m a r g o r p   e l p m i s   a   s i   n o h t y p\n"
     ]
    }
   ],
   "source": [
    "#write a python program to print each line in a reverse order\n",
    "f=open(\"ashu.txt\")\n",
    "for line in f:\n",
    "    s1=\" \".join(reversed(line))\n",
    "    print(s1)\n",
    "f.close()"
   ]
  },
  {
   "cell_type": "code",
   "execution_count": 6,
   "id": "3707a65c",
   "metadata": {},
   "outputs": [
    {
     "name": "stdout",
     "output_type": "stream",
     "text": [
      "print cuurent date and time\n",
      "2022 12 11 16:53:56\n"
     ]
    }
   ],
   "source": [
    "#write a python program to print a date and time today and now\n",
    "import datetime\n",
    "now=datetime.datetime.now()\n",
    "print(\"print cuurent date and time\")\n",
    "print(now.strftime(\"%Y %m %d %H:%M:%S\"))\n"
   ]
  }
 ],
 "metadata": {
  "kernelspec": {
   "display_name": "Python 3 (ipykernel)",
   "language": "python",
   "name": "python3"
  },
  "language_info": {
   "codemirror_mode": {
    "name": "ipython",
    "version": 3
   },
   "file_extension": ".py",
   "mimetype": "text/x-python",
   "name": "python",
   "nbconvert_exporter": "python",
   "pygments_lexer": "ipython3",
   "version": "3.9.12"
  }
 },
 "nbformat": 4,
 "nbformat_minor": 5
}
