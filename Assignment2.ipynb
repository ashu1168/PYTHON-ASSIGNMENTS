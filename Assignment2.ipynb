{
 "cells": [
  {
   "cell_type": "code",
   "execution_count": 1,
   "id": "30e252ea",
   "metadata": {},
   "outputs": [
    {
     "name": "stdout",
     "output_type": "stream",
     "text": [
      "Enter string:amaama\n",
      "String symmetrical\n",
      "String is palloindrom\n"
     ]
    }
   ],
   "source": [
    "#Assignment 2\n",
    "#1.write a python program to check string symmetrical or pallindrom\n",
    "s=input(\"Enter string:\")\n",
    "n=len(s)\n",
    "flag=0\n",
    "if n%2==0:\n",
    "    i=0\n",
    "    j=n//2\n",
    "    while i<n//2 and j<n:\n",
    "        if s[i]==s[j]:\n",
    "            i=i+1\n",
    "            j=j+1\n",
    "        else:\n",
    "            flag=1\n",
    "            break\n",
    "else:\n",
    "    flag=1\n",
    "if flag==0:\n",
    "        print(\"String symmetrical\")\n",
    "else:\n",
    "        print(\"Stingg not symmetrical\")\n",
    "        \n",
    "\n",
    "if s==s[::-1]:\n",
    "    print(\"String is palloindrom\")\n",
    "else:\n",
    "    print(\"String is not pallindrom\")"
   ]
  },
  {
   "cell_type": "code",
   "execution_count": 2,
   "id": "dd10c3cf",
   "metadata": {},
   "outputs": [
    {
     "name": "stdout",
     "output_type": "stream",
     "text": [
      "Enter string:ashwini raut\n",
      "['raut', 'ashwini']\n"
     ]
    }
   ],
   "source": [
    "#write a python program to reverse words in given string\n",
    "s=input(\"Enter string:\")\n",
    "a=s.split()\n",
    "a.reverse()\n",
    "print(a)"
   ]
  },
  {
   "cell_type": "code",
   "execution_count": 3,
   "id": "d9ff21d3",
   "metadata": {},
   "outputs": [
    {
     "name": "stdout",
     "output_type": "stream",
     "text": [
      "Enter string:ashwini\n",
      "Enter i th positon:2\n",
      "After removing i th character=  aswini\n"
     ]
    }
   ],
   "source": [
    "#write a python programe removing ith chracter from different ways\n",
    "s=input(\"Enter string:\")\n",
    "p=int(input(\"Enter i th positon:\"))\n",
    "s1=\" \"\n",
    "for i in range(0,len(s)):\n",
    "    if p!=i:\n",
    "        s1=s1+s[i]\n",
    "print(\"After removing i th character=\",s1)"
   ]
  },
  {
   "cell_type": "code",
   "execution_count": 4,
   "id": "963a6b73",
   "metadata": {},
   "outputs": [
    {
     "name": "stdout",
     "output_type": "stream",
     "text": [
      "Enter first number1\n",
      "Enter first number2\n",
      "Enter first number3\n",
      "c is greater\n"
     ]
    }
   ],
   "source": [
    "#write a python function the max of three number\n",
    "def max(a,b,c):\n",
    "    if(a>b & a>c):\n",
    "        print(\"a is greater\")\n",
    "    elif(b>a & b>c):\n",
    "        print(\"b is greater\")\n",
    "    else:\n",
    "        print(\"c is greater\")\n",
    "a=int(input(\"Enter first number\"))\n",
    "b=int(input(\"Enter first number\"))\n",
    "c=int(input(\"Enter first number\"))\n",
    "max(a,b,c)"
   ]
  },
  {
   "cell_type": "code",
   "execution_count": 5,
   "id": "b5213823",
   "metadata": {},
   "outputs": [
    {
     "name": "stdout",
     "output_type": "stream",
     "text": [
      "sum of all the  numbers in list= 100\n"
     ]
    }
   ],
   "source": [
    "#write a python function to sum of all number in a list\n",
    "def sum(list):\n",
    "    s=0\n",
    "    for i in list:\n",
    "        s=s+i\n",
    "    print(\"sum of all the  numbers in list=\",s)\n",
    "list=[10,20,30,40]\n",
    "sum(list)"
   ]
  },
  {
   "cell_type": "code",
   "execution_count": 6,
   "id": "12392ba8",
   "metadata": {},
   "outputs": [
    {
     "name": "stdout",
     "output_type": "stream",
     "text": [
      "Enter string:ashwini raut\n",
      "Reversed string is\n",
      "tuar iniwhsa\n"
     ]
    }
   ],
   "source": [
    "#write a python program to reverse a string\n",
    "def reverse(s):\n",
    "    s=s[::-1]\n",
    "    print(s)\n",
    "s=input(\"Enter string:\")\n",
    "print(\"Reversed string is\")\n",
    "reverse(s)\n",
    "      \n"
   ]
  },
  {
   "cell_type": "code",
   "execution_count": 7,
   "id": "7aa194d4",
   "metadata": {},
   "outputs": [
    {
     "name": "stdout",
     "output_type": "stream",
     "text": [
      "Enter stringashu raut\n",
      "ashu\n",
      "raut\n"
     ]
    }
   ],
   "source": [
    "#write a python program to print even length words in a string\n",
    "s=input(\"Enter string\")\n",
    "n=len(s)\n",
    "w=s.split()\n",
    "for i in w:\n",
    "    if len(i)%2==0:\n",
    "        print(i)\n",
    "    "
   ]
  },
  {
   "cell_type": "code",
   "execution_count": 8,
   "id": "9871ae3b",
   "metadata": {},
   "outputs": [
    {
     "name": "stdout",
     "output_type": "stream",
     "text": [
      "Enter string:aeiou\n",
      "string contain all vowel\n"
     ]
    }
   ],
   "source": [
    "#write python program to accept string contain all vowels\n",
    "s=input(\"Enter string:\")\n",
    "if('a'in s)and('e'in s)and('i'in s)and('o'in s)and('u'in s):\n",
    "    print(\"string contain all vowel\")\n",
    "else:\n",
    "    print(\"string not contail all vowel\")"
   ]
  },
  {
   "cell_type": "code",
   "execution_count": 9,
   "id": "bdbdda0c",
   "metadata": {},
   "outputs": [
    {
     "name": "stdout",
     "output_type": "stream",
     "text": [
      "Enter first string:ashu\n",
      "Enter second string:raut\n",
      "Number of matching character= 2\n"
     ]
    }
   ],
   "source": [
    "#write a python program count number of matching character in a pair of string\n",
    "a=input(\"Enter first string:\")\n",
    "b=input(\"Enter second string:\")\n",
    "c=[]\n",
    "for ch in a:\n",
    "    if ch in b:\n",
    "        c.append(ch)\n",
    "print(\"Number of matching character=\",len(c))"
   ]
  },
  {
   "cell_type": "code",
   "execution_count": 10,
   "id": "34867931",
   "metadata": {},
   "outputs": [
    {
     "name": "stdout",
     "output_type": "stream",
     "text": [
      "unique value= [10, 20, 30, 40, 50]\n"
     ]
    }
   ],
   "source": [
    "#write a python function that takes a list and return a new unique element of the first list\n",
    "def unique_element(a):\n",
    "    b=[]\n",
    "    for val in a:\n",
    "        if val not in b: \n",
    "            b.append(val)\n",
    "    return b\n",
    "a=[10,20,20,30,40,20,50,20]\n",
    "b=unique_element(a)\n",
    "print(\"unique value=\",b)"
   ]
  },
  {
   "cell_type": "code",
   "execution_count": 11,
   "id": "0cc3404a",
   "metadata": {},
   "outputs": [
    {
     "name": "stdout",
     "output_type": "stream",
     "text": [
      "Number is prime\n"
     ]
    }
   ],
   "source": [
    "#write  a python function that take number as a parameter and check the  number is prime or not\n",
    "def prime(n):\n",
    "    i=2\n",
    "    f=0\n",
    "    for i in range(2,n):\n",
    "        if n%i==0:\n",
    "            f=1\n",
    "            break\n",
    "    if(f==0):\n",
    "        print(\"Number is prime\")\n",
    "    else:\n",
    "        print(\"Number is not prime\")\n",
    "prime(5)     \n",
    "            "
   ]
  },
  {
   "cell_type": "code",
   "execution_count": 12,
   "id": "459576fe",
   "metadata": {},
   "outputs": [
    {
     "name": "stdout",
     "output_type": "stream",
     "text": [
      "Number is perfect\n"
     ]
    }
   ],
   "source": [
    "#write a python function to check whether number is perfect or not \n",
    "def perfect(n):\n",
    "    sum=0\n",
    "    for i in  range(1,n):\n",
    "        if n%i==0:\n",
    "            sum=sum+i\n",
    "    if(sum==n):\n",
    "        print(\"Number is perfect\")\n",
    "    else:\n",
    "        print(\"Number is not perfect\")\n",
    "perfect(6)"
   ]
  }
 ],
 "metadata": {
  "kernelspec": {
   "display_name": "Python 3 (ipykernel)",
   "language": "python",
   "name": "python3"
  },
  "language_info": {
   "codemirror_mode": {
    "name": "ipython",
    "version": 3
   },
   "file_extension": ".py",
   "mimetype": "text/x-python",
   "name": "python",
   "nbconvert_exporter": "python",
   "pygments_lexer": "ipython3",
   "version": "3.9.12"
  }
 },
 "nbformat": 4,
 "nbformat_minor": 5
}
