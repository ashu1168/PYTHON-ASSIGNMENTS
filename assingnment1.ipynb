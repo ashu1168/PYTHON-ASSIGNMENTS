{
 "cells": [
  {
   "cell_type": "code",
   "execution_count": 1,
   "id": "0f552617",
   "metadata": {},
   "outputs": [
    {
     "name": "stdout",
     "output_type": "stream",
     "text": [
      "Enter base of triangle:2\n",
      "Enter heigt if tringle:4\n",
      "Area of triangle= 4.0\n"
     ]
    }
   ],
   "source": [
    "b=int(input(\"Enter base of triangle:\"))\n",
    "h=int(input(\"Enter heigt if tringle:\"))\n",
    "area=1/2*b*h\n",
    "print(\"Area of triangle=\",area)"
   ]
  },
  {
   "cell_type": "code",
   "execution_count": 2,
   "id": "808084f2",
   "metadata": {},
   "outputs": [
    {
     "name": "stdout",
     "output_type": "stream",
     "text": [
      "Enter a value2\n",
      "Enter b value4\n",
      "Swaped value: 4 2\n"
     ]
    }
   ],
   "source": [
    "a=int(input(\"Enter a value\"))\n",
    "b=int(input(\"Enter b value\"))\n",
    "temp=a\n",
    "a=b\n",
    "b=temp\n",
    "print(\"Swaped value:\",a,b)\n"
   ]
  },
  {
   "cell_type": "code",
   "execution_count": 1,
   "id": "9c8fa56c",
   "metadata": {},
   "outputs": [
    {
     "data": {
      "text/plain": [
       "21"
      ]
     },
     "execution_count": 1,
     "metadata": {},
     "output_type": "execute_result"
    }
   ],
   "source": [
    "import random\n",
    "(random.randint(1,100))"
   ]
  },
  {
   "cell_type": "code",
   "execution_count": 3,
   "id": "46f39a70",
   "metadata": {},
   "outputs": [
    {
     "name": "stdout",
     "output_type": "stream",
     "text": [
      "Enter number:0\n",
      "Number is zero\n"
     ]
    }
   ],
   "source": [
    "n=int(input(\"Enter number:\"))\n",
    "if n==0:\n",
    "    print(\"Number is zero\")\n",
    "elif n>0:\n",
    "    print(\"Number is positive\")\n",
    "else :\n",
    "    print(\"Number is negative\")"
   ]
  },
  {
   "cell_type": "code",
   "execution_count": 1,
   "id": "af17feb7",
   "metadata": {},
   "outputs": [
    {
     "name": "stdout",
     "output_type": "stream",
     "text": [
      "Enter number2\n",
      "Number is even\n"
     ]
    }
   ],
   "source": [
    "n=int(input(\"Enter number\"))\n",
    "if n%2==0:\n",
    "    print(\"Number is even\")\n",
    "else:\n",
    "    print(\"Number i is odd\")\n",
    "    "
   ]
  },
  {
   "cell_type": "code",
   "execution_count": 6,
   "id": "c2363115",
   "metadata": {},
   "outputs": [
    {
     "name": "stdout",
     "output_type": "stream",
     "text": [
      "Enter number:5\n",
      "Number is prime\n"
     ]
    }
   ],
   "source": [
    "n=int(input(\"Enter number:\"))\n",
    "i=2\n",
    "f=0\n",
    "for i in range(2,n):\n",
    "    if n%i==0:\n",
    "        f=1\n",
    "        break\n",
    "if f==0:\n",
    "    print(\"Number is prime\")\n",
    "else:\n",
    "    print(\"Number is not prime\")\n",
    "        "
   ]
  },
  {
   "cell_type": "code",
   "execution_count": null,
   "id": "8c69976c",
   "metadata": {},
   "outputs": [],
   "source": [
    "n=int(input(\"Enter number:\"))\n",
    "num=n\n",
    "sum=0\n",
    "while n>0:\n",
    "    rem=n%10\n",
    "    sum=sum+rem**3\n",
    "    n=n//10\n",
    "if sum==num:\n",
    "    print(\"Number is armtrong\")\n",
    "else:\n",
    "    print(\"Number is not armstrog\")\n",
    "    "
   ]
  },
  {
   "cell_type": "code",
   "execution_count": 11,
   "id": "19e8fcc2",
   "metadata": {},
   "outputs": [
    {
     "name": "stdout",
     "output_type": "stream",
     "text": [
      "Enter number5\n",
      "Factorial= 120\n"
     ]
    }
   ],
   "source": [
    "n=int(input(\"Enter number\"))\n",
    "f=1\n",
    "for i in range(1,n+1):\n",
    "    f=f*i\n",
    "print(\"Factorial=\",f)"
   ]
  },
  {
   "cell_type": "code",
   "execution_count": 12,
   "id": "79bb5122",
   "metadata": {},
   "outputs": [
    {
     "name": "stdout",
     "output_type": "stream",
     "text": [
      "Enter year:2020\n",
      "leaf year\n"
     ]
    }
   ],
   "source": [
    "year=int(input(\"Enter year:\"))\n",
    "if year%4==0:\n",
    "    print(\"leaf year\")\n",
    "else:\n",
    "    print(\"Not leaf year\")"
   ]
  },
  {
   "cell_type": "code",
   "execution_count": 10,
   "id": "1a3333f8",
   "metadata": {},
   "outputs": [
    {
     "name": "stdout",
     "output_type": "stream",
     "text": [
      "Eter lower limit1\n",
      "Enter upper limit:5\n",
      "10\n"
     ]
    }
   ],
   "source": [
    "lower=int(input(\"Eter lower limit\"))\n",
    "upper=int(input(\"Enter upper limit:\"))\n",
    "sum=0\n",
    "if i>0:\n",
    "    for i in range(lower ,upper):\n",
    "        sum=sum+i\n",
    "    print(sum)\n",
    "        \n"
   ]
  }
 ],
 "metadata": {
  "kernelspec": {
   "display_name": "Python 3 (ipykernel)",
   "language": "python",
   "name": "python3"
  },
  "language_info": {
   "codemirror_mode": {
    "name": "ipython",
    "version": 3
   },
   "file_extension": ".py",
   "mimetype": "text/x-python",
   "name": "python",
   "nbconvert_exporter": "python",
   "pygments_lexer": "ipython3",
   "version": "3.9.12"
  }
 },
 "nbformat": 4,
 "nbformat_minor": 5
}
