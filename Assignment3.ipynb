{
 "cells": [
  {
   "cell_type": "code",
   "execution_count": 1,
   "id": "a7c8d72d",
   "metadata": {},
   "outputs": [
    {
     "data": {
      "text/plain": [
       "100"
      ]
     },
     "execution_count": 1,
     "metadata": {},
     "output_type": "execute_result"
    }
   ],
   "source": [
    "#write a python program to print sum of list item\n",
    "list=[10,20,30,40]\n",
    "sum(list)"
   ]
  },
  {
   "cell_type": "code",
   "execution_count": 2,
   "id": "e2534cc9",
   "metadata": {},
   "outputs": [
    {
     "name": "stdout",
     "output_type": "stream",
     "text": [
      "200\n"
     ]
    }
   ],
   "source": [
    "#write a python program to multiplies all item in the list\n",
    "list=[10,20]\n",
    "mul=1\n",
    "for i in list:\n",
    "    mul=mul*i\n",
    "print(mul)"
   ]
  },
  {
   "cell_type": "code",
   "execution_count": 3,
   "id": "675aceb5",
   "metadata": {},
   "outputs": [
    {
     "name": "stdout",
     "output_type": "stream",
     "text": [
      "[(1, 2), (2, 3), (4, 4), (2, 5)]\n"
     ]
    }
   ],
   "source": [
    "#write python program to get a list ,sorted incresing orderby last element in each tuple from a given list of non empty tuple\n",
    "def last(n):\n",
    "    return n[-1]\n",
    "def sort_list_last(tuple):\n",
    "    return sorted(tuple,key=last)\n",
    "print(sort_list_last([(2,5),(1,2),(4,4),(2,3)]))"
   ]
  },
  {
   "cell_type": "code",
   "execution_count": 4,
   "id": "66f63504",
   "metadata": {},
   "outputs": [
    {
     "data": {
      "text/plain": [
       "(1, 'java', 'python')"
      ]
     },
     "execution_count": 4,
     "metadata": {},
     "output_type": "execute_result"
    }
   ],
   "source": [
    "#Tuples\n",
    "#write python program to create a tuple\n",
    "tuple=(1,\"java\",\"python\")\n",
    "tuple\n"
   ]
  },
  {
   "cell_type": "code",
   "execution_count": 5,
   "id": "0fab49d7",
   "metadata": {},
   "outputs": [
    {
     "data": {
      "text/plain": [
       "(1, 1.2, 'java', [1, 2, 3])"
      ]
     },
     "execution_count": 5,
     "metadata": {},
     "output_type": "execute_result"
    }
   ],
   "source": [
    "#write a python program to create tuple with diifren data type\n",
    "tuple=(1,1.2,\"java\",[1,2,3])\n",
    "tuple"
   ]
  },
  {
   "cell_type": "code",
   "execution_count": 6,
   "id": "ae7153cb",
   "metadata": {},
   "outputs": [
    {
     "name": "stdout",
     "output_type": "stream",
     "text": [
      "exist element in the  tuple\n"
     ]
    }
   ],
   "source": [
    "#write a python program to check whether an element exist within tuple\n",
    "tuple=(1,2,3,4,5)\n",
    "3 in tuple\n",
    "print(\"exist element in the  tuple\")"
   ]
  },
  {
   "cell_type": "code",
   "execution_count": 7,
   "id": "94d0c6d4",
   "metadata": {},
   "outputs": [
    {
     "name": "stdout",
     "output_type": "stream",
     "text": [
      "{1, 2, 3, 'java'}\n"
     ]
    },
    {
     "data": {
      "text/plain": [
       "set"
      ]
     },
     "execution_count": 7,
     "metadata": {},
     "output_type": "execute_result"
    }
   ],
   "source": [
    "#write a python program to create a set\n",
    "set={1,2,3,\"java\"}\n",
    "print(set)\n",
    "type(set)"
   ]
  },
  {
   "cell_type": "code",
   "execution_count": 8,
   "id": "94044ea6",
   "metadata": {},
   "outputs": [
    {
     "name": "stdout",
     "output_type": "stream",
     "text": [
      "{1, 2, 3, 4, 5}\n",
      "1 2 3 4 5 "
     ]
    }
   ],
   "source": [
    "#write a python program to iterate over sets\n",
    "set={1,2,3,4,5}\n",
    "print(set)\n",
    "for i in set:\n",
    "    print(i,end=\" \")"
   ]
  },
  {
   "cell_type": "code",
   "execution_count": 11,
   "id": "22b020d8",
   "metadata": {},
   "outputs": [
    {
     "name": "stdout",
     "output_type": "stream",
     "text": [
      "Original set are:\n",
      "{'blue', 'yellow', 'red', 'pink'}\n",
      "{'black', 'green', 'Yellow', 'cyan', 'red'}\n",
      "Difference between first and second set: {'blue', 'yellow', 'pink'}\n",
      "Difference between second and first set: {'black', 'green', 'cyan', 'Yellow'}\n"
     ]
    }
   ],
   "source": [
    "#write a python program to create set diffference\n",
    "set1={\"blue\",\"red\",\"pink\",\"yellow\"}\n",
    "set2={\"cyan\",\"red\",\"green\",\"black\",\"Yellow\"}\n",
    "print(\"Original set are:\")\n",
    "print(set1)\n",
    "print(set2)\n",
    "difference=set1.difference(set2)\n",
    "print(\"Difference between first and second set:\",difference)\n",
    "difference=set2.difference(set1)\n",
    "print(\"Difference between second and first set:\",difference)"
   ]
  },
  {
   "cell_type": "code",
   "execution_count": 10,
   "id": "7624c199",
   "metadata": {},
   "outputs": [
    {
     "name": "stdout",
     "output_type": "stream",
     "text": [
      "{0: 10, 1: 20}\n",
      "{0: 10, 1: 20, 2: 30}\n"
     ]
    }
   ],
   "source": [
    "#write a python script to added a key to dictionary\n",
    "dic={0:10,1:20}\n",
    "print(dic)\n",
    "dic.update({2:30})\n",
    "print(dic)"
   ]
  },
  {
   "cell_type": "code",
   "execution_count": 11,
   "id": "4676d71e",
   "metadata": {},
   "outputs": [
    {
     "name": "stdout",
     "output_type": "stream",
     "text": [
      "sal1\n",
      "sal2\n"
     ]
    }
   ],
   "source": [
    "#write a python program to iterate over dictionaries using for loop\n",
    "dic={\"sal1\":2000,\"sal2\":10000}\n",
    "for i in dic:\n",
    "    print(i)"
   ]
  },
  {
   "cell_type": "code",
   "execution_count": 1,
   "id": "c616e110",
   "metadata": {},
   "outputs": [
    {
     "name": "stdout",
     "output_type": "stream",
     "text": [
      "[10, 20, 30, 40, 30, 20]\n",
      "[40, 10, 20, 30]\n"
     ]
    }
   ],
   "source": [
    "#write a python program to remove duplicate from a list\n",
    "l1=[10,20,30,40,30,20]\n",
    "print(l1)\n",
    "print(list(set(l1)))"
   ]
  },
  {
   "cell_type": "code",
   "execution_count": 17,
   "id": "c9c60435",
   "metadata": {},
   "outputs": [
    {
     "name": "stdout",
     "output_type": "stream",
     "text": [
      "Not empty\n"
     ]
    }
   ],
   "source": [
    "#write a python program to check list empty or not\n",
    "list=[1,2,3,4]\n",
    "if len(list)>0:\n",
    "    print(\"Not empty\")\n",
    "else:\n",
    "    print(\"Empty\")"
   ]
  },
  {
   "cell_type": "code",
   "execution_count": 7,
   "id": "f19b6ec1",
   "metadata": {},
   "outputs": [
    {
     "name": "stdout",
     "output_type": "stream",
     "text": [
      "[10, 20, 30, 40]\n",
      "(10, 20, 30, 40)\n"
     ]
    }
   ],
   "source": [
    "#Tuple\n",
    "#write a python program to convert a list to tuple\n",
    "list=[10,20,30,40]\n",
    "print(list)\n",
    "tuple=tuple(list)\n",
    "print(tuple)"
   ]
  },
  {
   "cell_type": "code",
   "execution_count": 19,
   "id": "4c13d3d7",
   "metadata": {},
   "outputs": [
    {
     "name": "stdout",
     "output_type": "stream",
     "text": [
      "('hello', 'python', 'hi')\n",
      "('hello', 'hi')\n"
     ]
    }
   ],
   "source": [
    "#write a python program to remove item from tuple\n",
    "tuple=(\"hello\",\"python\",\"hi\")\n",
    "print(tuple)\n",
    "tuple=tuple[:1]+tuple[2:]\n",
    "print(tuple)\n"
   ]
  },
  {
   "cell_type": "code",
   "execution_count": 20,
   "id": "9bf3f5f6",
   "metadata": {},
   "outputs": [
    {
     "name": "stdout",
     "output_type": "stream",
     "text": [
      "('ashu', 'arti', 'adi')\n",
      "arti\n",
      "('adi', 'vaish', 'gau')\n"
     ]
    }
   ],
   "source": [
    "#write a python program to slice a tuple\n",
    "tuple=(\"ashu\",\"arti\",\"adi\",\"vaish\",\"gau\")\n",
    "print(tuple[:3])\n",
    "print(tuple[1])\n",
    "print(tuple[2:])"
   ]
  },
  {
   "cell_type": "code",
   "execution_count": 21,
   "id": "c9396551",
   "metadata": {},
   "outputs": [
    {
     "name": "stdout",
     "output_type": "stream",
     "text": [
      "5\n"
     ]
    }
   ],
   "source": [
    "#write a python program to finr length of a tuple\n",
    "tuple=(\"ashu\",\"vaish\",\"arti\",\"adi\",\"gau\")\n",
    "print(len(tuple))"
   ]
  },
  {
   "cell_type": "code",
   "execution_count": 22,
   "id": "36118cb7",
   "metadata": {},
   "outputs": [
    {
     "name": "stdout",
     "output_type": "stream",
     "text": [
      "Original element\n",
      "{1, 2, 3, 4, 5, 6, 7, 8}\n",
      "<class 'set'>\n",
      "\n",
      " maximum value of the set:\n",
      "8\n",
      "\n",
      " minimum value of set:\n",
      "1\n"
     ]
    }
   ],
   "source": [
    "#set\n",
    "#write a python program to find maximum and minimum value in set\n",
    "set={1,2,3,4,5,6,7,8}\n",
    "print(\"Original element\")\n",
    "print(set)\n",
    "print(type(set))\n",
    "print(\"\\n maximum value of the set:\")\n",
    "print(max(set))\n",
    "print(\"\\n minimum value of set:\")\n",
    "print(min(set))"
   ]
  },
  {
   "cell_type": "code",
   "execution_count": 23,
   "id": "3c9106a6",
   "metadata": {},
   "outputs": [
    {
     "name": "stdout",
     "output_type": "stream",
     "text": [
      "7\n"
     ]
    }
   ],
   "source": [
    "#write a python program to print length of set\n",
    "set={1,2,3,4,5,6,7}\n",
    "print(len(set))"
   ]
  },
  {
   "cell_type": "code",
   "execution_count": 24,
   "id": "9815b0c0",
   "metadata": {},
   "outputs": [
    {
     "name": "stdout",
     "output_type": "stream",
     "text": [
      "{'a': 100, 'b': 200, 'x': 400, 'y': 500}\n"
     ]
    }
   ],
   "source": [
    "#write a python program to merge two python dictionary\n",
    "dic1={\"a\":100,\"b\":200}\n",
    "dic2={\"x\":400,\"y\":500}\n",
    "d=dic1.copy()\n",
    "d.update(dic2)\n",
    "print(d)"
   ]
  }
 ],
 "metadata": {
  "kernelspec": {
   "display_name": "Python 3 (ipykernel)",
   "language": "python",
   "name": "python3"
  },
  "language_info": {
   "codemirror_mode": {
    "name": "ipython",
    "version": 3
   },
   "file_extension": ".py",
   "mimetype": "text/x-python",
   "name": "python",
   "nbconvert_exporter": "python",
   "pygments_lexer": "ipython3",
   "version": "3.9.12"
  }
 },
 "nbformat": 4,
 "nbformat_minor": 5
}
